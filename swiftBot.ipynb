{
 "cells": [
  {
   "cell_type": "markdown",
   "metadata": {},
   "source": [
    "# Fine-tuning ChatGPT to speak in Taylor Swift lyrics"
   ]
  },
  {
   "cell_type": "code",
   "execution_count": 18,
   "metadata": {},
   "outputs": [],
   "source": [
    "\n",
    "import os\n",
    "from openai import OpenAI\n",
    "\n"
   ]
  },
  {
   "cell_type": "markdown",
   "metadata": {},
   "source": [
    "### Instantiate a connection to the API"
   ]
  },
  {
   "cell_type": "code",
   "execution_count": 13,
   "metadata": {},
   "outputs": [],
   "source": [
    "\n",
    "api_key = os.environ.get(\"OPENAI_API_KEY\") \n",
    "fine_client = OpenAI(api_key=api_key)"
   ]
  },
  {
   "cell_type": "markdown",
   "metadata": {},
   "source": [
    "### This creates an OpenAI file object that is compatible with model.\n",
    "\n",
    "- Data must be in a jsonl format\n",
    "- Must have at least 10 examples "
   ]
  },
  {
   "cell_type": "code",
   "execution_count": 14,
   "metadata": {},
   "outputs": [
    {
     "data": {
      "text/plain": [
       "'file-sbwBijcB9NZ8ZUIGcWIQupix'"
      ]
     },
     "execution_count": 14,
     "metadata": {},
     "output_type": "execute_result"
    }
   ],
   "source": [
    "\n",
    "file_object = fine_client.files.create(\n",
    "  file=open(\"swift_data_1.jsonl\", \"rb\"),\n",
    "  purpose=\"fine-tune\"\n",
    ")\n",
    "file_object.id"
   ]
  },
  {
   "cell_type": "markdown",
   "metadata": {},
   "source": [
    "### create the fine-tuning job\n",
    "\n",
    "- select the training data\n",
    "- select the model\n",
    "- option to tweak hyperparameters"
   ]
  },
  {
   "cell_type": "code",
   "execution_count": 4,
   "metadata": {},
   "outputs": [],
   "source": [
    "\n",
    "\n",
    "tuning_job = fine_client.fine_tuning.jobs.create(\n",
    "  training_file=file_object.id, \n",
    "  model=\"gpt-3.5-turbo\"\n",
    ")"
   ]
  },
  {
   "cell_type": "markdown",
   "metadata": {},
   "source": [
    "### Retrieve the fine-tuning job by its id."
   ]
  },
  {
   "cell_type": "code",
   "execution_count": 19,
   "metadata": {},
   "outputs": [
    {
     "ename": "NameError",
     "evalue": "name 'tuning_job' is not defined",
     "output_type": "error",
     "traceback": [
      "\u001b[1;31m---------------------------------------------------------------------------\u001b[0m",
      "\u001b[1;31mNameError\u001b[0m                                 Traceback (most recent call last)",
      "Cell \u001b[1;32mIn[19], line 1\u001b[0m\n\u001b[1;32m----> 1\u001b[0m fine_client\u001b[38;5;241m.\u001b[39mfine_tuning\u001b[38;5;241m.\u001b[39mjobs\u001b[38;5;241m.\u001b[39mretrieve(\u001b[43mtuning_job\u001b[49m\u001b[38;5;241m.\u001b[39mid)\n",
      "\u001b[1;31mNameError\u001b[0m: name 'tuning_job' is not defined"
     ]
    }
   ],
   "source": [
    "fine_client.fine_tuning.jobs.retrieve(tuning_job.id)\n"
   ]
  },
  {
   "cell_type": "markdown",
   "metadata": {},
   "source": [
    "### View the status and trained model names for all fine tuning jobs"
   ]
  },
  {
   "cell_type": "code",
   "execution_count": 16,
   "metadata": {},
   "outputs": [
    {
     "name": "stdout",
     "output_type": "stream",
     "text": [
      "Model: ft:gpt-3.5-turbo-0125:personal::9IMX6PY6, Status: succeeded\n",
      "Model: ft:gpt-3.5-turbo-0125:personal::9ICMGaqd, Status: succeeded\n",
      "Model: ft:gpt-3.5-turbo-1106:personal::9FHTuhs3, Status: succeeded\n",
      "Model: ft:gpt-3.5-turbo-1106:personal:chatgptay:9EdLBUhX, Status: succeeded\n",
      "Model: ft:gpt-3.5-turbo-0125:personal::9CpR9UZW, Status: succeeded\n",
      "Model: ft:gpt-3.5-turbo-0125:personal::9CpKlsgD, Status: succeeded\n",
      "Model: ft:gpt-3.5-turbo-0125:personal::9CpIOJDh, Status: succeeded\n",
      "Model: ft:gpt-3.5-turbo-0125:personal::9CpFOolc, Status: succeeded\n",
      "Model: None, Status: failed\n",
      "Model: None, Status: failed\n"
     ]
    }
   ],
   "source": [
    "jobs = fine_client.fine_tuning.jobs.list(limit=10)\n",
    "for job in jobs.data:\n",
    "    print(f\"Model: {job.fine_tuned_model}, Status: {job.status}\")"
   ]
  },
  {
   "cell_type": "markdown",
   "metadata": {},
   "source": [
    "### Use the model"
   ]
  },
  {
   "cell_type": "code",
   "execution_count": 17,
   "metadata": {},
   "outputs": [
    {
     "name": "stdout",
     "output_type": "stream",
     "text": [
      "ChatCompletionMessage(content='The rumors are terrible and cruel, but honey, most of them are true.', role='assistant', function_call=None, tool_calls=None)\n"
     ]
    }
   ],
   "source": [
    "\n",
    "completion = fine_client.chat.completions.create(\n",
    "  model=\"ft:gpt-3.5-turbo-1106:personal::9FHTuhs3\",\n",
    "  messages=[\n",
    "    {\"role\": \"system\", \"content\": \"You are a swiftie.\"},\n",
    "    {\"role\": \"user\", \"content\": \"are you a chatbot or a person?\"}\n",
    "  ]\n",
    ")\n",
    "print(completion.choices[0].message)"
   ]
  }
 ],
 "metadata": {
  "kernelspec": {
   "display_name": "openaienv",
   "language": "python",
   "name": "python3"
  },
  "language_info": {
   "codemirror_mode": {
    "name": "ipython",
    "version": 3
   },
   "file_extension": ".py",
   "mimetype": "text/x-python",
   "name": "python",
   "nbconvert_exporter": "python",
   "pygments_lexer": "ipython3",
   "version": "3.12.2"
  }
 },
 "nbformat": 4,
 "nbformat_minor": 2
}
